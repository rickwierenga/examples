{
  "nbformat": 4,
  "nbformat_minor": 0,
  "metadata": {
    "colab": {
      "name": "Iris Classification in S5TF.ipynb",
      "provenance": [],
      "collapsed_sections": []
    },
    "kernelspec": {
      "name": "swift",
      "display_name": "Swift"
    }
  },
  "cells": [
    {
      "cell_type": "code",
      "metadata": {
        "id": "kZRlD4utdPuX",
        "colab_type": "code",
        "outputId": "a78dfc72-e528-4d1f-eaf5-c3d662c02135",
        "colab": {
          "base_uri": "https://localhost:8080/",
          "height": 204
        }
      },
      "source": [
        "%install-location $cwd/swift-install\n",
        "%install '.package(url: \"https://github.com/rickwierenga/datasets-1\", .branch(\"iris\"))' Datasets\n",
        "%install '.package(url: \"https://github.com/s5tf-team/S5TF\", .branch(\"master\"))' S5TF"
      ],
      "execution_count": 1,
      "outputs": [
        {
          "output_type": "stream",
          "text": [
            "Installing packages:\n",
            "\t.package(url: \"https://github.com/rickwierenga/datasets-1\", .branch(\"iris\"))\n",
            "\t\tDatasets\n",
            "\t.package(url: \"https://github.com/s5tf-team/S5TF\", .branch(\"master\"))\n",
            "\t\tS5TF\n",
            "With SwiftPM flags: []\n",
            "Working in: /tmp/tmp05snxfm0/swift-install\n",
            "[1/2] Compiling jupyterInstalledPackages jupyterInstalledPackages.swift\n",
            "[2/3] Merging module jupyterInstalledPackages\n",
            "Initializing Swift...\n",
            "Installation complete!\n"
          ],
          "name": "stdout"
        }
      ]
    },
    {
      "cell_type": "code",
      "metadata": {
        "id": "0Bpxp6rJybIy",
        "colab_type": "code",
        "colab": {}
      },
      "source": [
        "import Datasets\n",
        "import Foundation\n",
        "import TensorFlow\n",
        "import S5TF"
      ],
      "execution_count": 0,
      "outputs": []
    },
    {
      "cell_type": "code",
      "metadata": {
        "id": "qTJD1s8xzHHX",
        "colab_type": "code",
        "colab": {}
      },
      "source": [
        "let hiddenSize: Int = 10\n",
        "struct IrisModel: Layer {\n",
        "    var layer1 = Dense<Float>(inputSize: 4, outputSize: hiddenSize, activation: relu)\n",
        "    var layer2 = Dense<Float>(inputSize: hiddenSize, outputSize: hiddenSize, activation: relu)\n",
        "    var layer3 = Dense<Float>(inputSize: hiddenSize, outputSize: 3)\n",
        "    \n",
        "    @differentiable\n",
        "    func callAsFunction(_ input: Tensor<Float>) -> Tensor<Float> {\n",
        "        return input.sequenced(through: layer1, layer2, layer3)\n",
        "    }\n",
        "}\n",
        "\n",
        "var model = IrisModel()"
      ],
      "execution_count": 0,
      "outputs": []
    },
    {
      "cell_type": "code",
      "metadata": {
        "id": "jW8pBGrpznXJ",
        "colab_type": "code",
        "colab": {}
      },
      "source": [
        "let optimizer = SGD(for: model, learningRate: 0.01)"
      ],
      "execution_count": 0,
      "outputs": []
    },
    {
      "cell_type": "code",
      "metadata": {
        "id": "sZryPYnhz2Pt",
        "colab_type": "code",
        "colab": {}
      },
      "source": [
        "var trainAccuracyResults: [Float] = []\n",
        "var trainLossResults: [Float] = []"
      ],
      "execution_count": 0,
      "outputs": []
    },
    {
      "cell_type": "code",
      "metadata": {
        "id": "yOeMBhCDzxY2",
        "colab_type": "code",
        "outputId": "a4f0ad3f-d459-4dcc-b80a-af2b72a9dedf",
        "colab": {
          "base_uri": "https://localhost:8080/",
          "height": 442
        }
      },
      "source": [
        "func accuracy(predictions: Tensor<Int32>, truths: Tensor<Int32>) -> Float {\n",
        "    return Tensor<Float>(predictions .== truths).mean().scalarized()\n",
        "}\n",
        "\n",
        "for epoch in 1...25 {\n",
        "    var epochLoss: Float = 0\n",
        "    var epochAccuracy: Float = 0\n",
        "    var batchCount: Int = 0\n",
        "    for batch in Iris.train.batched(32) {\n",
        "        let (loss, grad) = model.valueWithGradient { (model: IrisModel) -> Tensor<Float> in\n",
        "            let logits = model(batch.data)\n",
        "            return softmaxCrossEntropy(logits: logits, labels: batch.labels)\n",
        "        }\n",
        "        optimizer.update(&model, along: grad)\n",
        "        \n",
        "        let logits = model(batch.data)\n",
        "        epochAccuracy += accuracy(predictions: logits.argmax(squeezingAxis: 1), truths: batch.labels)\n",
        "        epochLoss += loss.scalarized()\n",
        "        batchCount += 1\n",
        "    }\n",
        "    epochAccuracy /= Float(batchCount)\n",
        "    epochLoss /= Float(batchCount)\n",
        "    trainAccuracyResults.append(epochAccuracy)\n",
        "    trainLossResults.append(epochLoss)\n",
        "    print(\"Epoch \\(epoch): Loss: \\(epochLoss), Accuracy: \\(epochAccuracy)\")\n",
        "}"
      ],
      "execution_count": 6,
      "outputs": [
        {
          "output_type": "stream",
          "text": [
            "Epoch 1: Loss: 1.3914363, Accuracy: 0.0234375\n",
            "Epoch 2: Loss: 1.2372257, Accuracy: 0.36292613\n",
            "Epoch 3: Loss: 1.1511984, Accuracy: 0.49289772\n",
            "Epoch 4: Loss: 1.0948713, Accuracy: 0.59517044\n",
            "Epoch 5: Loss: 1.0546119, Accuracy: 0.62642044\n",
            "Epoch 6: Loss: 1.0223342, Accuracy: 0.64204544\n",
            "Epoch 7: Loss: 0.9949523, Accuracy: 0.6924716\n",
            "Epoch 8: Loss: 0.9706927, Accuracy: 0.74289775\n",
            "Epoch 9: Loss: 0.94875807, Accuracy: 0.78196025\n",
            "Epoch 10: Loss: 0.9278655, Accuracy: 0.8011364\n",
            "Epoch 11: Loss: 0.90821826, Accuracy: 0.8558239\n",
            "Epoch 12: Loss: 0.88903487, Accuracy: 0.9026989\n",
            "Epoch 13: Loss: 0.87055373, Accuracy: 0.953125\n",
            "Epoch 14: Loss: 0.85318387, Accuracy: 0.9609375\n",
            "Epoch 15: Loss: 0.83586925, Accuracy: 0.96875\n",
            "Epoch 16: Loss: 0.81875503, Accuracy: 0.984375\n",
            "Epoch 17: Loss: 0.80204326, Accuracy: 0.9921875\n",
            "Epoch 18: Loss: 0.7857868, Accuracy: 0.9921875\n",
            "Epoch 19: Loss: 0.7704154, Accuracy: 0.9921875\n",
            "Epoch 20: Loss: 0.7545458, Accuracy: 0.9921875\n",
            "Epoch 21: Loss: 0.73898983, Accuracy: 0.9921875\n",
            "Epoch 22: Loss: 0.7237543, Accuracy: 0.9921875\n",
            "Epoch 23: Loss: 0.7092897, Accuracy: 0.9921875\n",
            "Epoch 24: Loss: 0.6951299, Accuracy: 1.0\n",
            "Epoch 25: Loss: 0.68122476, Accuracy: 1.0\n"
          ],
          "name": "stdout"
        }
      ]
    }
  ]
}