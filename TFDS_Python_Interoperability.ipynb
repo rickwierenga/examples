{
  "nbformat": 4,
  "nbformat_minor": 0,
  "metadata": {
    "colab": {
      "name": "TFDS Python Interoperability.ipynb",
      "provenance": [],
      "collapsed_sections": []
    },
    "kernelspec": {
      "name": "swift",
      "display_name": "Swift"
    }
  },
  "cells": [
    {
      "cell_type": "markdown",
      "metadata": {
        "id": "aNAkr1ldsRaR",
        "colab_type": "text"
      },
      "source": [
        "# TFDS Python Interoperability with Swift\n",
        "\n",
        "S5TF Team is actively developing a new `Datasets` library, however in the meantime we can take advantage of the excellent Python interoperability to load datasets from [TFDS](https://github.com/tensorflow/datasets/). Below is an example of how to do this with the MNIST dataset."
      ]
    },
    {
      "cell_type": "markdown",
      "metadata": {
        "id": "udEcj1K4oWMY",
        "colab_type": "text"
      },
      "source": [
        "## Importing dependencies"
      ]
    },
    {
      "cell_type": "code",
      "metadata": {
        "id": "kZRlD4utdPuX",
        "colab_type": "code",
        "colab": {}
      },
      "source": [
        "import TensorFlow\n",
        "import Python\n",
        "\n",
        "let plt = Python.import(\"matplotlib.pyplot\")\n",
        "let np = Python.import(\"numpy\")\n",
        "let tfds = Python.import(\"tensorflow_datasets\")\n",
        "let tf = Python.import(\"tensorflow\")"
      ],
      "execution_count": 1,
      "outputs": []
    },
    {
      "cell_type": "code",
      "metadata": {
        "id": "cvfXQ8kE3PJX",
        "colab_type": "code",
        "colab": {}
      },
      "source": [
        "%include \"EnableIPythonDisplay.swift\"\n",
        "IPythonDisplay.shell.enable_matplotlib(\"inline\")"
      ],
      "execution_count": 2,
      "outputs": []
    },
    {
      "cell_type": "markdown",
      "metadata": {
        "id": "3lnL2cikoZVa",
        "colab_type": "text"
      },
      "source": [
        "Eager execution is required:"
      ]
    },
    {
      "cell_type": "code",
      "metadata": {
        "id": "BHnWn-UCknxs",
        "colab_type": "code",
        "colab": {}
      },
      "source": [
        "tf.compat.v1.enable_eager_execution()"
      ],
      "execution_count": 3,
      "outputs": []
    },
    {
      "cell_type": "markdown",
      "metadata": {
        "id": "T63F2zUqocRZ",
        "colab_type": "text"
      },
      "source": [
        "## Load MNIST"
      ]
    },
    {
      "cell_type": "code",
      "metadata": {
        "id": "NkGj1OQVwPey",
        "colab_type": "code",
        "colab": {
          "base_uri": "https://localhost:8080/",
          "height": 293
        },
        "outputId": "da2fecc1-b418-4f83-de39-156d68541235"
      },
      "source": [
        "let mnist = tfds.load(name: \"mnist\", split: \"train\", shuffle_files: true)"
      ],
      "execution_count": 4,
      "outputs": [
        {
          "output_type": "stream",
          "text": [
            "\u001b[1mDownloading and preparing dataset mnist (11.06 MiB) to /root/tensorflow_datasets/mnist/1.0.0...\u001b[0m\n",
            "WARNING:absl:Dataset mnist is hosted on GCS. It will automatically be downloaded to your\n",
            "local data directory. If you'd instead prefer to read directly from our public\n",
            "GCS bucket (recommended if you're running on GCP), you can instead set\n",
            "data_dir=gs://tfds-data/datasets.\n",
            "\n",
            "Dl Completed...: 100% 19/19 [00:00<00:00, 20.83 file/s]\n",
            "\n",
            "\u001b[1mDataset mnist downloaded and prepared to /root/tensorflow_datasets/mnist/1.0.0. Subsequent calls will reuse this data.\u001b[0m\n",
            "2020-01-22 15:27:28.368736: I tensorflow/stream_executor/platform/default/dso_loader.cc:44] Successfully opened dynamic library libcuda.so.1\n",
            "2020-01-22 15:27:28.427769: E tensorflow/stream_executor/cuda/cuda_driver.cc:318] failed call to cuInit: CUDA_ERROR_NO_DEVICE: no CUDA-capable device is detected\n",
            "2020-01-22 15:27:28.427877: I tensorflow/stream_executor/cuda/cuda_diagnostics.cc:156] kernel driver does not appear to be running on this host (25f284ca4194): /proc/driver/nvidia/version does not exist\n",
            "2020-01-22 15:27:28.442568: I tensorflow/core/platform/profile_utils/cpu_utils.cc:94] CPU Frequency: 2300000000 Hz\n",
            "2020-01-22 15:27:28.445830: I tensorflow/compiler/xla/service/service.cc:168] XLA service 0x27c3100 initialized for platform Host (this does not guarantee that XLA will be used). Devices:\n",
            "2020-01-22 15:27:28.445917: I tensorflow/compiler/xla/service/service.cc:176]   StreamExecutor device (0): Host, Default Version\n"
          ],
          "name": "stdout"
        }
      ]
    },
    {
      "cell_type": "markdown",
      "metadata": {
        "id": "QUHBWev0EgQP",
        "colab_type": "text"
      },
      "source": [
        "Inspect data:"
      ]
    },
    {
      "cell_type": "code",
      "metadata": {
        "id": "jhic1KY4DaPf",
        "colab_type": "code",
        "outputId": "bc41e491-7bf6-4474-f768-50da789d7154",
        "colab": {
          "base_uri": "https://localhost:8080/",
          "height": 241
        }
      },
      "source": [
        "var i = 1\n",
        "for features in mnist.take(10) {\n",
        "    let image = features[\"image\"], label = features[\"label\"]\n",
        "    plt.subplot(2, 5, i)\n",
        "    i += 1\n",
        "    plt.axis(\"off\")\n",
        "    plt.imshow(np.squeeze(image))\n",
        "    plt.title(Int(label))\n",
        "}\n",
        "plt.show()"
      ],
      "execution_count": 5,
      "outputs": [
        {
          "output_type": "display_data",
          "data": {
            "image/png": "[encoded data removed]",
            "text/plain": [
              "<Figure size 432x288 with 10 Axes>"
            ]
          },
          "metadata": {
            "tags": []
          }
        },
        {
          "output_type": "execute_result",
          "data": {
            "text/plain": [
              "None\n"
            ]
          },
          "metadata": {
            "tags": []
          },
          "execution_count": 5
        }
      ]
    },
    {
      "cell_type": "markdown",
      "metadata": {
        "id": "-GMcqFWUElb-",
        "colab_type": "text"
      },
      "source": [
        "Create training batches and convert to `Tensor` using `numpy`:"
      ]
    },
    {
      "cell_type": "code",
      "metadata": {
        "id": "5YOJ2vGPkDBI",
        "colab_type": "code",
        "outputId": "12f18e49-1a65-4d86-f1ce-0256c2713e12",
        "colab": {
          "base_uri": "https://localhost:8080/",
          "height": 72
        }
      },
      "source": [
        "let ds_train = mnist.shuffle(1000).batch(128).prefetch(10)\n",
        "for features in ds_train.take(3) {\n",
        "    let image = features[\"image\"], label = features[\"label\"]\n",
        "    let np_image = tfds.as_numpy(image), np_label = tfds.as_numpy(label)\n",
        "    let tensor_image = Tensor<UInt8>(numpy: np_image)!, tensor_label = Tensor<Int64>(numpy: np_label)!\n",
        "    print(tensor_image.shape, tensor_label.shape)\n",
        "}"
      ],
      "execution_count": 6,
      "outputs": [
        {
          "output_type": "stream",
          "text": [
            "[128, 28, 28, 1] [128]\r\n",
            "[128, 28, 28, 1] [128]\r\n",
            "[128, 28, 28, 1] [128]\r\n"
          ],
          "name": "stdout"
        }
      ]
    },
    {
      "cell_type": "markdown",
      "metadata": {
        "id": "u-TqUgNXNmTQ",
        "colab_type": "text"
      },
      "source": [
        "Convert the entire dataset split to `Tensor`:"
      ]
    },
    {
      "cell_type": "code",
      "metadata": {
        "id": "2tobD-bSNr2S",
        "colab_type": "code",
        "outputId": "a7472630-98a5-4320-c1af-9d63e86b2f09",
        "colab": {
          "base_uri": "https://localhost:8080/",
          "height": 35
        }
      },
      "source": [
        "let np_train = tfds.as_numpy(tfds.load(\"mnist\", split: \"train\", batch_size: -1))\n",
        "let images = Tensor<UInt8>(numpy: np_train[\"image\"])!, labels = Tensor<Int64>(numpy: np_train[\"label\"])!\n",
        "print(images.shape, labels.shape)"
      ],
      "execution_count": 7,
      "outputs": [
        {
          "output_type": "stream",
          "text": [
            "[60000, 28, 28, 1] [60000]\r\n"
          ],
          "name": "stdout"
        }
      ]
    },
    {
      "cell_type": "markdown",
      "metadata": {
        "id": "PEFM3DgaowU8",
        "colab_type": "text"
      },
      "source": [
        "## DatasetBuilder"
      ]
    },
    {
      "cell_type": "code",
      "metadata": {
        "id": "5jdRhe5YosCP",
        "colab_type": "code",
        "outputId": "03d41b68-e332-4b31-e29c-14ecf06a4f20",
        "colab": {
          "base_uri": "https://localhost:8080/",
          "height": 476
        }
      },
      "source": [
        "let mnist_builder = tfds.builder(\"mnist\")\n",
        "mnist_builder.download_and_prepare()\n",
        "let ds = mnist_builder.as_dataset(split: \"train\")\n",
        "print(mnist_builder.info)"
      ],
      "execution_count": 8,
      "outputs": [
        {
          "output_type": "stream",
          "text": [
            "tfds.core.DatasetInfo(\r\n",
            "    name='mnist',\r\n",
            "    version=1.0.0,\r\n",
            "    description='The MNIST database of handwritten digits.',\r\n",
            "    homepage='http://yann.lecun.com/exdb/mnist/',\r\n",
            "    features=FeaturesDict({\r\n",
            "        'image': Image(shape=(28, 28, 1), dtype=tf.uint8),\r\n",
            "        'label': ClassLabel(shape=(), dtype=tf.int64, num_classes=10),\r\n",
            "    }),\r\n",
            "    total_num_examples=70000,\r\n",
            "    splits={\r\n",
            "        'test': 10000,\r\n",
            "        'train': 60000,\r\n",
            "    },\r\n",
            "    supervised_keys=('image', 'label'),\r\n",
            "    citation=\"\"\"@article{lecun2010mnist,\r\n",
            "      title={MNIST handwritten digit database},\r\n",
            "      author={LeCun, Yann and Cortes, Corinna and Burges, CJ},\r\n",
            "      journal={ATT Labs [Online]. Available: http://yann. lecun. com/exdb/mnist},\r\n",
            "      volume={2},\r\n",
            "      year={2010}\r\n",
            "    }\"\"\",\r\n",
            "    redistribution_info=,\r\n",
            ")\r\n",
            "\r\n"
          ],
          "name": "stdout"
        }
      ]
    }
  ]
}